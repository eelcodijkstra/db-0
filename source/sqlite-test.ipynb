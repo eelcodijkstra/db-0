{
 "cells": [
  {
   "cell_type": "markdown",
   "id": "52480194-4c7a-498f-bad1-fe0fed74aa21",
   "metadata": {},
   "source": [
    "# SQLite test"
   ]
  },
  {
   "cell_type": "markdown",
   "id": "f9cf58c0-10a3-4059-979f-29ecd3a9f9de",
   "metadata": {},
   "source": [
    "Je kunt alleen een verbinding maken met een bestaande database?\n",
    "\n",
    "%LOAD path-to-database\n",
    "\n",
    "Het is ook mogelijk om een database aan te maken, maar: er is geen mogelijkheid om CSV-bestanden om te zetten in een database. Dat moet dus met een andere kernel gebeuren - bijv. SQLite in Python."
   ]
  },
  {
   "cell_type": "code",
   "execution_count": 1,
   "id": "d2447754-a890-47bc-8266-619bc0ff1634",
   "metadata": {},
   "outputs": [],
   "source": [
    "%LOAD example.db"
   ]
  },
  {
   "cell_type": "code",
   "execution_count": 2,
   "id": "aea391d8-7115-4077-8704-14428323e93d",
   "metadata": {},
   "outputs": [
    {
     "data": {
      "text/plain": [
       "Magic header string: SQLite format 3\n",
       "Page size bytes: 4096\n",
       "File format write version: 1\n",
       "File format read version: 1\n",
       "Reserved space bytes: 0\n",
       "Max embedded payload fraction 64\n",
       "Min embedded payload fraction: 32\n",
       "Leaf payload fraction: 32\n",
       "File change counter: 112\n",
       "Database size pages: 7\n",
       "First freelist trunk page: 0\n",
       "Total freelist trunk pages: 0\n",
       "Schema cookie: 53\n",
       "Schema format number: 4\n",
       "Default page cache size bytes: 0\n",
       "Largest B tree page number: 0\n",
       "Database text encoding: 1\n",
       "User version: 0\n",
       "Incremental vaccum mode: 0\n",
       "Application ID: 0\n",
       "Version valid for: 112\n",
       "SQLite version: 3038003\n"
      ]
     },
     "execution_count": 2,
     "metadata": {},
     "output_type": "execute_result"
    }
   ],
   "source": [
    "%GET_INFO"
   ]
  },
  {
   "cell_type": "code",
   "execution_count": 5,
   "id": "5063387c-871c-4611-b1ce-d95d43deec7d",
   "metadata": {},
   "outputs": [
    {
     "data": {
      "text/html": [
       "<table>\n",
       "<tr>\n",
       "<th>lidnr</th>\n",
       "<th>voornaam</th>\n",
       "<th>achternaam</th>\n",
       "<th>email</th>\n",
       "</tr>\n",
       "<tr>\n",
       "<td>1</td>\n",
       "<td>Hans</td>\n",
       "<td>de Boer</td>\n",
       "<td>hdebo@ziggo.nl</td>\n",
       "</tr>\n",
       "<tr>\n",
       "<td>2</td>\n",
       "<td>Marie</td>\n",
       "<td>Verkerk</td>\n",
       "<td>marie@verkerk.nl</td>\n",
       "</tr>\n",
       "<tr>\n",
       "<td>3</td>\n",
       "<td>Jantien</td>\n",
       "<td>Gerards</td>\n",
       "<td>jgerards@gmail.com</td>\n",
       "</tr>\n",
       "<tr>\n",
       "<td>4</td>\n",
       "<td>Marie</td>\n",
       "<td>Zandstra</td>\n",
       "<td>marie123@ziggo.nl</td>\n",
       "</tr>\n",
       "<tr>\n",
       "<td>5</td>\n",
       "<td>Erica</td>\n",
       "<td>Bezos</td>\n",
       "<td>erica@amazon.com</td>\n",
       "</tr>\n",
       "</table>"
      ],
      "text/plain": [
       "+-------+----------+------------+--------------------+\n",
       "| lidnr | voornaam | achternaam | email              |\n",
       "+-------+----------+------------+--------------------+\n",
       "| 1     | Hans     | de Boer    | hdebo@ziggo.nl     |\n",
       "+-------+----------+------------+--------------------+\n",
       "| 2     | Marie    | Verkerk    | marie@verkerk.nl   |\n",
       "+-------+----------+------------+--------------------+\n",
       "| 3     | Jantien  | Gerards    | jgerards@gmail.com |\n",
       "+-------+----------+------------+--------------------+\n",
       "| 4     | Marie    | Zandstra   | marie123@ziggo.nl  |\n",
       "+-------+----------+------------+--------------------+\n",
       "| 5     | Erica    | Bezos      | erica@amazon.com   |\n",
       "+-------+----------+------------+--------------------+"
      ]
     },
     "execution_count": 5,
     "metadata": {},
     "output_type": "execute_result"
    }
   ],
   "source": [
    "SELECT *\n",
    "FROM leden;"
   ]
  },
  {
   "cell_type": "markdown",
   "id": "5c2b453e-d9fd-41f8-93a1-147a939c5e67",
   "metadata": {},
   "source": []
  }
 ],
 "metadata": {
  "kernelspec": {
   "display_name": "xsqlite",
   "language": "sqlite",
   "name": "xsqlite"
  },
  "language_info": {
   "codemirror_mode": "sql",
   "file_extension": "",
   "mimetype": "",
   "name": "sqlite3",
   "version": "3.33.0"
  }
 },
 "nbformat": 4,
 "nbformat_minor": 5
}
