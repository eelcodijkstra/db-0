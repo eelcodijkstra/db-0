{
 "cells": [
  {
   "cell_type": "markdown",
   "metadata": {},
   "source": [
    "# SQL Schema"
   ]
  },
  {
   "cell_type": "markdown",
   "metadata": {
    "tags": []
   },
   "source": [
    "## Overzicht\n",
    "\n",
    "Het schema van een database beschrijft de *structuur* daarvan: de namen en types van tabellen en kolommen, en de bijbehorende constraints.\n",
    "Het schema van een tabel heeft gewoonlijk de vorm van een SQL-opdracht om de betreffende tabel aan te maken.\n",
    "Het schema is in het DBMS opgeslagen, via SQL-opdrachten kun je dit schema dan opvragen.\n",
    "\n",
    "Een schema kan *constraints* bevatten: eisen die aan de data in de database gesteld worden,\n",
    "zoals de uniciteit van de waarden in een kolom, of de \"referential integrity\" (zie verderop) van foreign keys.\n",
    "We geven voorbeelden van opdrachten om te demonstreren dat het DBMS opdrachten die deze constraints schenden niet uitvoert: we kunnen er dan zeker van zijn dat de waarden in de database aan deze constraints voldoen."
   ]
  },
  {
   "cell_type": "code",
   "execution_count": 27,
   "metadata": {},
   "outputs": [],
   "source": [
    "%LOAD example.db"
   ]
  },
  {
   "cell_type": "markdown",
   "metadata": {},
   "source": [
    "## Schema\n",
    "\n",
    "Het *schema* van een database beschrijft de structuur: de tabellen, kolomnamen, types en constraints.\n",
    "Het schema van een database is in het DBMS (hier: SQLite) opgeslagen, in een aparte database (`sqlite_master`).\n",
    "Een schema kun je bijvoorbeeld weergeven in de vorm van de \"create table\" opdrachten."
   ]
  },
  {
   "cell_type": "markdown",
   "metadata": {},
   "source": [
    "## Schema opvragen via SQL\n",
    "\n",
    "### Alle tabellen\n",
    "\n",
    "Met de volgende SQL-query vraag je (in SQLite) alle tabellen van de huidige database op:"
   ]
  },
  {
   "cell_type": "code",
   "execution_count": 3,
   "metadata": {},
   "outputs": [
    {
     "data": {
      "text/html": [
       "<table>\n",
       "<tr>\n",
       "<th>name</th>\n",
       "</tr>\n",
       "<tr>\n",
       "<td>leden</td>\n",
       "</tr>\n",
       "<tr>\n",
       "<td>events</td>\n",
       "</tr>\n",
       "<tr>\n",
       "<td>inschrijvingen</td>\n",
       "</tr>\n",
       "</table>"
      ],
      "text/plain": [
       "+----------------+\n",
       "| name           |\n",
       "+----------------+\n",
       "| leden          |\n",
       "+----------------+\n",
       "| events         |\n",
       "+----------------+\n",
       "| inschrijvingen |\n",
       "+----------------+"
      ]
     },
     "execution_count": 3,
     "metadata": {},
     "output_type": "execute_result"
    }
   ],
   "source": [
    "SELECT name FROM sqlite_master WHERE type='table';"
   ]
  },
  {
   "cell_type": "code",
   "execution_count": 29,
   "metadata": {},
   "outputs": [
    {
     "data": {
      "text/html": [
       "<table>\n",
       "<tr>\n",
       "<th>type</th>\n",
       "<th>name</th>\n",
       "<th>tbl_name</th>\n",
       "<th>rootpage</th>\n",
       "<th>sql</th>\n",
       "</tr>\n",
       "<tr>\n",
       "<td>table</td>\n",
       "<td>leden</td>\n",
       "<td>leden</td>\n",
       "<td>2</td>\n",
       "<td>CREATE TABLE leden(\n",
       "  lidnr INTEGER PRIMARY KEY,\n",
       "  voornaam VARCHAR(255) NOT NULL,\n",
       "  achternaam VARCHAR(255) NOT NULL,\n",
       "  email VARCHAR(255) NOT NULL UNIQUE\n",
       ")</td>\n",
       "</tr>\n",
       "<tr>\n",
       "<td>table</td>\n",
       "<td>events</td>\n",
       "<td>events</td>\n",
       "<td>4</td>\n",
       "<td>CREATE TABLE events(\n",
       "  eventnr INTEGER, \n",
       "  datum VARCHAR(10) NOT NULL,\n",
       "  beschrijving VARCHAR(255),\n",
       "  PRIMARY KEY (eventnr),\n",
       "  CONSTRAINT name UNIQUE (datum, beschrijving)\n",
       ")</td>\n",
       "</tr>\n",
       "<tr>\n",
       "<td>table</td>\n",
       "<td>inschrijvingen</td>\n",
       "<td>inschrijvingen</td>\n",
       "<td>6</td>\n",
       "<td>CREATE TABLE inschrijvingen(\n",
       "  eventnr INTEGER, \n",
       "  lidnr INTEGER,\n",
       "  maaltijd VARCHAR(255),\n",
       "  PRIMARY KEY (lidnr, eventnr),\n",
       "  FOREIGN KEY (lidnr) REFERENCES leden (lidnr),\n",
       "  FOREIGN KEY (eventnr) REFERENCES events (eventnr)\n",
       ")</td>\n",
       "</tr>\n",
       "</table>"
      ],
      "text/plain": [
       "+-------+----------------+----------------+----------+-----------------------------------------------------+\n",
       "| type  | name           | tbl_name       | rootpage | sql                                                 |\n",
       "+-------+----------------+----------------+----------+-----------------------------------------------------+\n",
       "| table | leden          | leden          | 2        | CREATE TABLE leden(                                 |\n",
       "|       |                |                |          | lidnr INTEGER PRIMARY KEY,                          |\n",
       "|       |                |                |          | voornaam VARCHAR(255) NOT NULL,                     |\n",
       "|       |                |                |          | achternaam VARCHAR(255) NOT NULL,                   |\n",
       "|       |                |                |          | email VARCHAR(255) NOT NULL UNIQUE                  |\n",
       "|       |                |                |          | )                                                   |\n",
       "+-------+----------------+----------------+----------+-----------------------------------------------------+\n",
       "| table | events         | events         | 4        | CREATE TABLE events(                                |\n",
       "|       |                |                |          | eventnr INTEGER,                                    |\n",
       "|       |                |                |          | datum VARCHAR(10) NOT NULL,                         |\n",
       "|       |                |                |          | beschrijving VARCHAR(255),                          |\n",
       "|       |                |                |          | PRIMARY KEY (eventnr),                              |\n",
       "|       |                |                |          | CONSTRAINT name UNIQUE (datum, beschrijving)        |\n",
       "|       |                |                |          | )                                                   |\n",
       "+-------+----------------+----------------+----------+-----------------------------------------------------+\n",
       "| table | inschrijvingen | inschrijvingen | 6        | CREATE TABLE inschrijvingen(                        |\n",
       "|       |                |                |          | eventnr INTEGER,                                    |\n",
       "|       |                |                |          | lidnr INTEGER,                                      |\n",
       "|       |                |                |          | maaltijd VARCHAR(255),                              |\n",
       "|       |                |                |          | PRIMARY KEY (lidnr, eventnr),                       |\n",
       "|       |                |                |          | FOREIGN KEY (lidnr) REFERENCES leden (lidnr),       |\n",
       "|       |                |                |          | FOREIGN KEY (eventnr) REFERENCES events (eventnr)   |\n",
       "|       |                |                |          | )                                                   |\n",
       "+-------+----------------+----------------+----------+-----------------------------------------------------+"
      ]
     },
     "execution_count": 29,
     "metadata": {},
     "output_type": "execute_result"
    }
   ],
   "source": [
    "SELECT *\n",
    "FROM sqlite_master\n",
    "WHERE type = 'table';"
   ]
  },
  {
   "cell_type": "markdown",
   "metadata": {},
   "source": [
    "Voor de kolomnamen van de sqlite_master tabel, zie: https://www.techonthenet.com/sqlite/sys_tables/index.php"
   ]
  },
  {
   "cell_type": "markdown",
   "metadata": {},
   "source": [
    "### Schema van een tabel\n",
    "\n",
    "Het schema (de structuur) van een tabel vraag je als volgt op in SQL:"
   ]
  },
  {
   "cell_type": "code",
   "execution_count": 4,
   "metadata": {},
   "outputs": [
    {
     "data": {
      "text/html": [
       "<table>\n",
       "<tr>\n",
       "<th>sql</th>\n",
       "</tr>\n",
       "<tr>\n",
       "<td>CREATE TABLE leden(\n",
       "  lidnr INTEGER PRIMARY KEY,\n",
       "  voornaam VARCHAR(255) NOT NULL,\n",
       "  achternaam VARCHAR(255) NOT NULL,\n",
       "  email VARCHAR(255) NOT NULL UNIQUE\n",
       ")</td>\n",
       "</tr>\n",
       "</table>"
      ],
      "text/plain": [
       "+--------------------------------------+\n",
       "| sql                                  |\n",
       "+--------------------------------------+\n",
       "| CREATE TABLE leden(                  |\n",
       "| lidnr INTEGER PRIMARY KEY,           |\n",
       "| voornaam VARCHAR(255) NOT NULL,      |\n",
       "| achternaam VARCHAR(255) NOT NULL,    |\n",
       "| email VARCHAR(255) NOT NULL UNIQUE   |\n",
       "| )                                    |\n",
       "+--------------------------------------+"
      ]
     },
     "execution_count": 4,
     "metadata": {},
     "output_type": "execute_result"
    }
   ],
   "source": [
    "SELECT sql FROM sqlite_master WHERE name='leden'"
   ]
  },
  {
   "cell_type": "markdown",
   "metadata": {},
   "source": [
    "### Opdracht\n",
    "\n",
    "Vraag op dezelfde manier het schema van de tabel `inschrijvingen` op."
   ]
  },
  {
   "cell_type": "code",
   "execution_count": null,
   "metadata": {},
   "outputs": [],
   "source": []
  },
  {
   "cell_type": "markdown",
   "metadata": {},
   "source": [
    "### Opdracht\n",
    "\n",
    "Vergelijk het database-schema met de onderstaande figuur van het logische model:\n",
    "\n",
    "\n"
   ]
  },
  {
   "cell_type": "markdown",
   "metadata": {},
   "source": [
    "## Constraints\n",
    "\n",
    "Het schema van een database bepaalt welke gegevens in de database opgenomen kunnen worden.\n",
    "De constraints in het schema geven verdere eisen aan deze gegevens.\n",
    "Voorbeelden van constraints in de voorbeeld-database:\n",
    "\n",
    "* de voornaam en de achternaam mogen niet leeg (NULL) zijn;\n",
    "* de email-waarde van een lid moet uniek zijn;\n",
    "* de combinatie (datum, beschrijving) van een event moet uniek zijn;\n",
    "* de verwijzingen (*foreign keys*) in een inschrijving moeten verwijzen naar een bestaand lid en een bestaand event.\n"
   ]
  },
  {
   "cell_type": "markdown",
   "metadata": {},
   "source": [
    "### Opdracht\n",
    "\n",
    "In deze opdracht zie je hoe het DMBS probeert de constraints van het schema probeert te handhaven.\n",
    "\n",
    "(Zie de eerdere opdrachten in [SQLite - CRUD](sqlite-3.ipynb))\n",
    "\n",
    "Voer de volgende opdracht uit:"
   ]
  },
  {
   "cell_type": "code",
   "execution_count": 6,
   "metadata": {},
   "outputs": [
    {
     "ename": "Error",
     "evalue": "UNIQUE constraint failed: leden.email",
     "output_type": "error",
     "traceback": [
      "Error: UNIQUE constraint failed: leden.email"
     ]
    }
   ],
   "source": [
    "INSERT INTO leden (voornaam, achternaam, email) \n",
    "           VALUES ('Donald', 'Duck', 'donald@disney.com');"
   ]
  },
  {
   "cell_type": "markdown",
   "metadata": {},
   "source": [
    "Voer de bovenstaande opdracht *nog een keer* uit.\n",
    "Welke foutmelding krijg je in dit geval?\n",
    "Welke constraint betreft dit?"
   ]
  },
  {
   "cell_type": "code",
   "execution_count": null,
   "metadata": {},
   "outputs": [],
   "source": []
  },
  {
   "cell_type": "markdown",
   "metadata": {},
   "source": [
    ":::{exercise} Meerdere records met dezelfde naam\n",
    "\n",
    "* maak een opdracht om een tweede lid met de naam \"Donald Duck\" aan de tabel toe te voegen, met een ander email-adres;\n",
    "* heeft dat zin in de praktijk?\n",
    "* voer de opdracht uit; en laat zien dat er inderdaad meerdere leden met die naam zijn.\n",
    ":::"
   ]
  },
  {
   "cell_type": "code",
   "execution_count": 9,
   "metadata": {},
   "outputs": [],
   "source": [
    "INSERT INTO leden (voornaam, achternaam, email) \n",
    "                  VALUES ('Donald', 'Duck', 'donald@disney.nl');"
   ]
  },
  {
   "cell_type": "code",
   "execution_count": 10,
   "metadata": {},
   "outputs": [
    {
     "data": {
      "text/html": [
       "<table>\n",
       "<tr>\n",
       "<th>lidnr</th>\n",
       "<th>voornaam</th>\n",
       "<th>achternaam</th>\n",
       "<th>email</th>\n",
       "</tr>\n",
       "<tr>\n",
       "<td>1</td>\n",
       "<td>Hans</td>\n",
       "<td>de Boer</td>\n",
       "<td>hdebo@ziggo.nl</td>\n",
       "</tr>\n",
       "<tr>\n",
       "<td>2</td>\n",
       "<td>Marie</td>\n",
       "<td>Verkerk</td>\n",
       "<td>marie@verkerk.nl</td>\n",
       "</tr>\n",
       "<tr>\n",
       "<td>3</td>\n",
       "<td>Janny</td>\n",
       "<td>Gerards</td>\n",
       "<td>jgerards@gmail.com</td>\n",
       "</tr>\n",
       "<tr>\n",
       "<td>4</td>\n",
       "<td>Marie</td>\n",
       "<td>Zandstra</td>\n",
       "<td>marie123@ziggo.nl</td>\n",
       "</tr>\n",
       "<tr>\n",
       "<td>5</td>\n",
       "<td>Donald</td>\n",
       "<td>Duck</td>\n",
       "<td>donald@disney.com</td>\n",
       "</tr>\n",
       "<tr>\n",
       "<td>6</td>\n",
       "<td>Donald</td>\n",
       "<td>Duck</td>\n",
       "<td>donaldx@disney.nl</td>\n",
       "</tr>\n",
       "<tr>\n",
       "<td>7</td>\n",
       "<td>Donald</td>\n",
       "<td>Duck</td>\n",
       "<td>donald@disney.nl</td>\n",
       "</tr>\n",
       "</table>"
      ],
      "text/plain": [
       "+-------+----------+------------+--------------------+\n",
       "| lidnr | voornaam | achternaam | email              |\n",
       "+-------+----------+------------+--------------------+\n",
       "| 1     | Hans     | de Boer    | hdebo@ziggo.nl     |\n",
       "+-------+----------+------------+--------------------+\n",
       "| 2     | Marie    | Verkerk    | marie@verkerk.nl   |\n",
       "+-------+----------+------------+--------------------+\n",
       "| 3     | Janny    | Gerards    | jgerards@gmail.com |\n",
       "+-------+----------+------------+--------------------+\n",
       "| 4     | Marie    | Zandstra   | marie123@ziggo.nl  |\n",
       "+-------+----------+------------+--------------------+\n",
       "| 5     | Donald   | Duck       | donald@disney.com  |\n",
       "+-------+----------+------------+--------------------+\n",
       "| 6     | Donald   | Duck       | donaldx@disney.nl  |\n",
       "+-------+----------+------------+--------------------+\n",
       "| 7     | Donald   | Duck       | donald@disney.nl   |\n",
       "+-------+----------+------------+--------------------+"
      ]
     },
     "execution_count": 10,
     "metadata": {},
     "output_type": "execute_result"
    }
   ],
   "source": [
    "SELECT * FROM leden;"
   ]
  },
  {
   "cell_type": "markdown",
   "metadata": {},
   "source": [
    "Ruim je experimentele gegevens op: verwijder alle leden met de naam Donald Duck:"
   ]
  },
  {
   "cell_type": "code",
   "execution_count": 11,
   "metadata": {},
   "outputs": [],
   "source": [
    "DELETE FROM leden\n",
    "WHERE voornaam='Donald' AND achternaam='Duck';"
   ]
  },
  {
   "cell_type": "markdown",
   "metadata": {},
   "source": [
    "en controleer het resultaat:"
   ]
  },
  {
   "cell_type": "code",
   "execution_count": 12,
   "metadata": {},
   "outputs": [
    {
     "data": {
      "text/html": [
       "<table>\n",
       "<tr>\n",
       "<th>lidnr</th>\n",
       "<th>voornaam</th>\n",
       "<th>achternaam</th>\n",
       "<th>email</th>\n",
       "</tr>\n",
       "<tr>\n",
       "<td>1</td>\n",
       "<td>Hans</td>\n",
       "<td>de Boer</td>\n",
       "<td>hdebo@ziggo.nl</td>\n",
       "</tr>\n",
       "<tr>\n",
       "<td>2</td>\n",
       "<td>Marie</td>\n",
       "<td>Verkerk</td>\n",
       "<td>marie@verkerk.nl</td>\n",
       "</tr>\n",
       "<tr>\n",
       "<td>3</td>\n",
       "<td>Janny</td>\n",
       "<td>Gerards</td>\n",
       "<td>jgerards@gmail.com</td>\n",
       "</tr>\n",
       "<tr>\n",
       "<td>4</td>\n",
       "<td>Marie</td>\n",
       "<td>Zandstra</td>\n",
       "<td>marie123@ziggo.nl</td>\n",
       "</tr>\n",
       "</table>"
      ],
      "text/plain": [
       "+-------+----------+------------+--------------------+\n",
       "| lidnr | voornaam | achternaam | email              |\n",
       "+-------+----------+------------+--------------------+\n",
       "| 1     | Hans     | de Boer    | hdebo@ziggo.nl     |\n",
       "+-------+----------+------------+--------------------+\n",
       "| 2     | Marie    | Verkerk    | marie@verkerk.nl   |\n",
       "+-------+----------+------------+--------------------+\n",
       "| 3     | Janny    | Gerards    | jgerards@gmail.com |\n",
       "+-------+----------+------------+--------------------+\n",
       "| 4     | Marie    | Zandstra   | marie123@ziggo.nl  |\n",
       "+-------+----------+------------+--------------------+"
      ]
     },
     "execution_count": 12,
     "metadata": {},
     "output_type": "execute_result"
    }
   ],
   "source": [
    "SELECT * FROM leden;"
   ]
  },
  {
   "cell_type": "markdown",
   "metadata": {},
   "source": [
    "## Toevoegen van een inschrijving\n",
    "\n",
    "### Referential integrity \n",
    "\n",
    "In de volgende voorbeelden proberen we opdrachten uit te voeren die de \"referential integrity\" van de *foreign keys* dreigen te verstoren.\n",
    "\n",
    "> Een *foreign key* is een *key* die verwijst naar een rij in een andere (doel)tabel. Voorbeelden hiervan zijn `eventnr` en `lidnr` in de `inschrijvingen`-tabel. We moeten garanderen dat elke rij waar een foreign key naar verwijst inderdaad bestaat in de doel-tabel: dit heet *referential integrity*. Het DBMS moet dit controleren bij het toevoegen van een verwijzing (hier: een *inschrijving*), en bij het verwijderen van rijen waarnaar verwezen kan worden (zoals een `lid` of een `event`). Ook bij het veranderen van een foreign key moet dit gecontroleerd worden.\n",
    "\n",
    "### Check aan in SQLite?\n",
    "\n",
    "We controleren eerst of de (SQLite) database juist ingesteld is voor het controleren van de *foreign key constraints*.\n",
    "In het geval van MySQL staat die controle altijd aan.\n",
    "Het resultaat van de onderstaande opdracht moet zijn `(1,)`."
   ]
  },
  {
   "cell_type": "code",
   "execution_count": null,
   "metadata": {},
   "outputs": [],
   "source": [
    "cursor.execute('''PRAGMA foreign_keys;''')\n",
    "for row in cursor:\n",
    "    print(row)"
   ]
  },
  {
   "cell_type": "code",
   "execution_count": 14,
   "metadata": {},
   "outputs": [
    {
     "ename": "Error",
     "evalue": "UNIQUE constraint failed: inschrijvingen.lidnr, inschrijvingen.eventnr",
     "output_type": "error",
     "traceback": [
      "Error: UNIQUE constraint failed: inschrijvingen.lidnr, inschrijvingen.eventnr"
     ]
    }
   ],
   "source": [
    "INSERT INTO inschrijvingen \n",
    "  (eventnr, lidnr, maaltijd)\n",
    "  VALUES (22, 1, 'maaltijd A');"
   ]
  },
  {
   "cell_type": "markdown",
   "metadata": {},
   "source": [
    "### Toevoegen van inschrijving voor niet-bestaand event\n",
    "\n",
    "Als eerste proberem we een inschrijving voor een niet-bestaande event toe te voegen.\n",
    "\n",
    "**Opdracht** Voer de onderstaande cel uit.\n",
    "\n",
    "* welke foutmelding krijg je?\n",
    "* verander de `22` in `2`; welke foutmelding krijg je dan?"
   ]
  },
  {
   "cell_type": "code",
   "execution_count": 17,
   "metadata": {},
   "outputs": [
    {
     "ename": "Error",
     "evalue": "UNIQUE constraint failed: inschrijvingen.lidnr, inschrijvingen.eventnr",
     "output_type": "error",
     "traceback": [
      "Error: UNIQUE constraint failed: inschrijvingen.lidnr, inschrijvingen.eventnr"
     ]
    }
   ],
   "source": [
    "INSERT INTO inschrijvingen \n",
    "  (eventnr, lidnr, maaltijd)\n",
    "  VALUES (22, 1, 'maaltijd A');"
   ]
  },
  {
   "cell_type": "markdown",
   "metadata": {},
   "source": [
    "## Verwijderen van een event met inschrijvingen\n",
    "\n",
    "Een volgende poging is om een rij te verwijderen waar een foreign key van een andere tabel naar verwijst.\n",
    "Als voorbeeld gebruiken we een event waarvoor inschrijvingen bestaan.\n",
    "\n",
    "Eerst een overzicht van de inschrijvingen:"
   ]
  },
  {
   "cell_type": "code",
   "execution_count": 16,
   "metadata": {},
   "outputs": [
    {
     "data": {
      "text/html": [
       "<table>\n",
       "<tr>\n",
       "<th>lidnr</th>\n",
       "<th>eventnr</th>\n",
       "<th>maaltijd</th>\n",
       "</tr>\n",
       "<tr>\n",
       "<td>1</td>\n",
       "<td>1</td>\n",
       "<td>maaltijd A</td>\n",
       "</tr>\n",
       "<tr>\n",
       "<td>1</td>\n",
       "<td>2</td>\n",
       "<td>maaltijd B</td>\n",
       "</tr>\n",
       "<tr>\n",
       "<td>2</td>\n",
       "<td>3</td>\n",
       "<td>geen</td>\n",
       "</tr>\n",
       "<tr>\n",
       "<td>3</td>\n",
       "<td>4</td>\n",
       "<td>maaltijd A</td>\n",
       "</tr>\n",
       "<tr>\n",
       "<td>1</td>\n",
       "<td>22</td>\n",
       "<td>maaltijd A</td>\n",
       "</tr>\n",
       "<tr>\n",
       "<td>2</td>\n",
       "<td>22</td>\n",
       "<td>maaltijd A</td>\n",
       "</tr>\n",
       "</table>"
      ],
      "text/plain": [
       "+-------+---------+------------+\n",
       "| lidnr | eventnr | maaltijd   |\n",
       "+-------+---------+------------+\n",
       "| 1     | 1       | maaltijd A |\n",
       "+-------+---------+------------+\n",
       "| 1     | 2       | maaltijd B |\n",
       "+-------+---------+------------+\n",
       "| 2     | 3       | geen       |\n",
       "+-------+---------+------------+\n",
       "| 3     | 4       | maaltijd A |\n",
       "+-------+---------+------------+\n",
       "| 1     | 22      | maaltijd A |\n",
       "+-------+---------+------------+\n",
       "| 2     | 22      | maaltijd A |\n",
       "+-------+---------+------------+"
      ]
     },
     "execution_count": 16,
     "metadata": {},
     "output_type": "execute_result"
    }
   ],
   "source": [
    "SELECT lidnr, eventnr, maaltijd FROM inschrijvingen;"
   ]
  },
  {
   "cell_type": "markdown",
   "metadata": {},
   "source": [
    "**Opdracht** Voer de volgende cel uit, voor het verwijderen van een event.\n",
    "\n",
    "* Welke foutmelding krijg je?\n",
    "* Ga na welke persoon niet gebruikt wordt in een inschrijving (via de cel daaronder).\n",
    "* Verander de `x` in de daarop volgende cel door het nummer van een niet-gerefereerde event, en voer de cel uit."
   ]
  },
  {
   "cell_type": "code",
   "execution_count": 18,
   "metadata": {},
   "outputs": [],
   "source": [
    "DELETE \n",
    "FROM events\n",
    "WHERE eventnr = 4;"
   ]
  },
  {
   "cell_type": "markdown",
   "metadata": {},
   "source": [
    "**Opdracht**\n",
    "\n",
    "* Pas de `x` in de cel hieronder aan zodat je een lid probeert te verwijderen waarvoor een inschrijving bestaat, en voer de cel uit;\n",
    "* Welke foutmelding krijg je?\n",
    "* Verander de `x` in het nummer van een lid zonder inschrijvingen, en voer de opdracht uit;\n",
    "* Maak ter controle een overzicht van de leden."
   ]
  },
  {
   "cell_type": "code",
   "execution_count": 21,
   "metadata": {},
   "outputs": [],
   "source": [
    "DELETE FROM leden\n",
    " WHERE lidnr = 1 ;"
   ]
  },
  {
   "cell_type": "code",
   "execution_count": 22,
   "metadata": {},
   "outputs": [],
   "source": [
    "DELETE \n",
    "FROM leden\n",
    "WHERE lidnr = 4;"
   ]
  },
  {
   "cell_type": "markdown",
   "metadata": {},
   "source": [
    "Het volgende voorbeeld is een SQL-demonstratie.\n",
    "\n",
    "**Voorbeeld:** een SQL-query om de leden zonder inschrijvingen op te vragen.\n",
    "Geef hiervan de voornaam, achternaam en email-adres."
   ]
  },
  {
   "cell_type": "code",
   "execution_count": 25,
   "metadata": {},
   "outputs": [
    {
     "data": {
      "text/html": [
       "<table>\n",
       "<tr>\n",
       "<th>voornaam</th>\n",
       "<th>achternaam</th>\n",
       "<th>email</th>\n",
       "</tr>\n",
       "</table>"
      ],
      "text/plain": [
       "+----------+------------+-------+\n",
       "| voornaam | achternaam | email |\n",
       "+----------+------------+-------+"
      ]
     },
     "execution_count": 25,
     "metadata": {},
     "output_type": "execute_result"
    }
   ],
   "source": [
    "SELECT voornaam, achternaam, email\n",
    "FROM leden lid\n",
    "WHERE lid.lidnr NOT IN\n",
    "    (SELECT ins.lidnr FROM inschrijvingen ins);"
   ]
  },
  {
   "cell_type": "code",
   "execution_count": null,
   "metadata": {},
   "outputs": [],
   "source": []
  }
 ],
 "metadata": {
  "kernelspec": {
   "display_name": "xsqlite",
   "language": "sqlite",
   "name": "xsqlite"
  },
  "language_info": {
   "codemirror_mode": "sql",
   "file_extension": "",
   "mimetype": "",
   "name": "sqlite3",
   "version": "3.33.0"
  }
 },
 "nbformat": 4,
 "nbformat_minor": 4
}
