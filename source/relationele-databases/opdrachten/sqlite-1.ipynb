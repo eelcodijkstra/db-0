{
 "cells": [
  {
   "cell_type": "markdown",
   "metadata": {
    "tags": []
   },
   "source": [
    "# Selectie en projectie"
   ]
  },
  {
   "cell_type": "markdown",
   "metadata": {},
   "source": [
    "Een relationele database wordt zo genoemd omdat een tabel (zoals hierboven beschreven) wiskundig gezien een relatie voorstelt.\n",
    "Het rekenen met tabellen kun je dan uitdrukken met relationele operaties.\n",
    "Enkele voorbeelden van dit soort operaties:\n",
    "\n",
    "* *selectie* in een tabel A, op basis van een voorwaarde: het resultaat is een tabel die alleen de rijen van A bevat die aan de voorwaaarde voldoen;\n",
    "\n",
    ":::{figure} ../tabel-selectie.png\n",
    ":width: 500px\n",
    ":align: center\n",
    "\n",
    "Selectie van de rijen uit de tabel ``leden`` waarvoor geldt: ``geslacht = \"v\"``\n",
    ":::\n",
    "\n",
    "* *projectie* van een tabel A, op basis van een reeks kolomnamen: het resultaat is een tabel die alleen de kolommen van A bevat met de genoemde namen;\n",
    "\n",
    ":::{figure} ../tabel-projectie.png\n",
    ":width: 300px\n",
    ":align: center\n",
    "\n",
    "Projectie van de kolommen ``lidnr, voornaam, achternaam`` uit de tabel ``leden``\n",
    ":::\n",
    "\n",
    "* je kunt deze selectie en projectie ook combineren.\n",
    "\n",
    ":::{figure} ../tabel-selectie-projectie.png\n",
    ":width: 300px\n",
    ":align: center\n",
    "\n",
    "Combinatie van selectie en projectie\n",
    ":::\n",
    "\n",
    "Deze operaties leveren steeds een tabel op waarmee je weer verder kunt rekenen.\n",
    "*Merk op* dat het resultaat kan bestaan uit een tabel met een enkele rij,\n",
    "of uit een lege tabel, bijvoorbeeld als er geen rij aan de selectie-voorwaarde voldoet.\n",
    "\n",
    "Bovenstaande betekent dat je formules kunt maken die je samenstelt uit tabellen en deze operaties.\n",
    "Het rekenen met relaties is hierdoor een krachtig middel voor het werken met database-gegevens.\n",
    "\n",
    "Later behandelen we het *cartesisch* product van tabellen A en B: een tabel met alle combinaties van de rijen van A en B;\n",
    "en het samenvatten (*aggregatie*) van de waarden in een kolom van een tabel, bijvoorbeeld tot de som van de waarden."
   ]
  },
  {
   "cell_type": "code",
   "execution_count": 18,
   "metadata": {
    "tags": [
     "thebe-init",
     "hide-input"
    ]
   },
   "outputs": [],
   "source": [
    "%LOAD example.db"
   ]
  },
  {
   "cell_type": "markdown",
   "metadata": {
    "tags": []
   },
   "source": [
    "## Voorbeeld-database\n",
    "\n",
    "We werken in de voorbeelden in dit hoofdstuk met een eenvoudige en kleine database.\n",
    "Deze bestaat uit de tabellen `leden`, `events`, en `inschrijvingen`. Deze laatste tabel beschrijft welke *leden* zich ingeschreven hebben voor welke *events*."
   ]
  },
  {
   "cell_type": "code",
   "execution_count": 19,
   "metadata": {},
   "outputs": [
    {
     "data": {
      "text/html": [
       "<table>\n",
       "<tr>\n",
       "<th>lidnr</th>\n",
       "<th>voornaam</th>\n",
       "<th>achternaam</th>\n",
       "<th>email</th>\n",
       "</tr>\n",
       "<tr>\n",
       "<td>1</td>\n",
       "<td>Hans</td>\n",
       "<td>de Boer</td>\n",
       "<td>hdebo@ziggo.nl</td>\n",
       "</tr>\n",
       "<tr>\n",
       "<td>2</td>\n",
       "<td>Marie</td>\n",
       "<td>Verkerk</td>\n",
       "<td>marie@verkerk.nl</td>\n",
       "</tr>\n",
       "<tr>\n",
       "<td>3</td>\n",
       "<td>Jantien</td>\n",
       "<td>Gerards</td>\n",
       "<td>jgerards@gmail.com</td>\n",
       "</tr>\n",
       "<tr>\n",
       "<td>4</td>\n",
       "<td>Marie</td>\n",
       "<td>Zandstra</td>\n",
       "<td>marie123@ziggo.nl</td>\n",
       "</tr>\n",
       "</table>"
      ],
      "text/plain": [
       "+-------+----------+------------+--------------------+\n",
       "| lidnr | voornaam | achternaam | email              |\n",
       "+-------+----------+------------+--------------------+\n",
       "| 1     | Hans     | de Boer    | hdebo@ziggo.nl     |\n",
       "+-------+----------+------------+--------------------+\n",
       "| 2     | Marie    | Verkerk    | marie@verkerk.nl   |\n",
       "+-------+----------+------------+--------------------+\n",
       "| 3     | Jantien  | Gerards    | jgerards@gmail.com |\n",
       "+-------+----------+------------+--------------------+\n",
       "| 4     | Marie    | Zandstra   | marie123@ziggo.nl  |\n",
       "+-------+----------+------------+--------------------+"
      ]
     },
     "execution_count": 19,
     "metadata": {},
     "output_type": "execute_result"
    }
   ],
   "source": [
    "SELECT * FROM leden;"
   ]
  },
  {
   "cell_type": "code",
   "execution_count": 3,
   "metadata": {},
   "outputs": [
    {
     "data": {
      "text/html": [
       "<table>\n",
       "<tr>\n",
       "<th>eventnr</th>\n",
       "<th>datum</th>\n",
       "<th>beschrijving</th>\n",
       "</tr>\n",
       "<tr>\n",
       "<td>1</td>\n",
       "<td>2019-08-21</td>\n",
       "<td>Schaaktoernooi Breda</td>\n",
       "</tr>\n",
       "<tr>\n",
       "<td>2</td>\n",
       "<td>2019-08-28</td>\n",
       "<td>Schaaktoernooi Breda</td>\n",
       "</tr>\n",
       "<tr>\n",
       "<td>3</td>\n",
       "<td>2019-08-28</td>\n",
       "<td>Schaaktoernooi Assen</td>\n",
       "</tr>\n",
       "<tr>\n",
       "<td>4</td>\n",
       "<td>2019-09-15</td>\n",
       "<td>Schaaktoernooi Amersfoort</td>\n",
       "</tr>\n",
       "</table>"
      ],
      "text/plain": [
       "+---------+------------+---------------------------+\n",
       "| eventnr | datum      | beschrijving              |\n",
       "+---------+------------+---------------------------+\n",
       "| 1       | 2019-08-21 | Schaaktoernooi Breda      |\n",
       "+---------+------------+---------------------------+\n",
       "| 2       | 2019-08-28 | Schaaktoernooi Breda      |\n",
       "+---------+------------+---------------------------+\n",
       "| 3       | 2019-08-28 | Schaaktoernooi Assen      |\n",
       "+---------+------------+---------------------------+\n",
       "| 4       | 2019-09-15 | Schaaktoernooi Amersfoort |\n",
       "+---------+------------+---------------------------+"
      ]
     },
     "execution_count": 3,
     "metadata": {},
     "output_type": "execute_result"
    }
   ],
   "source": [
    "SELECT * FROM events;"
   ]
  },
  {
   "cell_type": "code",
   "execution_count": 4,
   "metadata": {},
   "outputs": [
    {
     "data": {
      "text/html": [
       "<table>\n",
       "<tr>\n",
       "<th>eventnr</th>\n",
       "<th>lidnr</th>\n",
       "<th>maaltijd</th>\n",
       "</tr>\n",
       "<tr>\n",
       "<td>1</td>\n",
       "<td>1</td>\n",
       "<td>maaltijd A</td>\n",
       "</tr>\n",
       "<tr>\n",
       "<td>2</td>\n",
       "<td>1</td>\n",
       "<td>maaltijd B</td>\n",
       "</tr>\n",
       "<tr>\n",
       "<td>3</td>\n",
       "<td>2</td>\n",
       "<td>geen</td>\n",
       "</tr>\n",
       "<tr>\n",
       "<td>4</td>\n",
       "<td>3</td>\n",
       "<td>maaltijd A</td>\n",
       "</tr>\n",
       "</table>"
      ],
      "text/plain": [
       "+---------+-------+------------+\n",
       "| eventnr | lidnr | maaltijd   |\n",
       "+---------+-------+------------+\n",
       "| 1       | 1     | maaltijd A |\n",
       "+---------+-------+------------+\n",
       "| 2       | 1     | maaltijd B |\n",
       "+---------+-------+------------+\n",
       "| 3       | 2     | geen       |\n",
       "+---------+-------+------------+\n",
       "| 4       | 3     | maaltijd A |\n",
       "+---------+-------+------------+"
      ]
     },
     "execution_count": 4,
     "metadata": {},
     "output_type": "execute_result"
    }
   ],
   "source": [
    "SELECT * from inschrijvingen;"
   ]
  },
  {
   "cell_type": "markdown",
   "metadata": {},
   "source": [
    "----"
   ]
  },
  {
   "cell_type": "markdown",
   "metadata": {
    "tags": []
   },
   "source": [
    "## Selectie in SQL\n",
    "\n",
    "Je kunt de rijen van een tabel selecteren op basis van een *voorwaarde*.\n",
    "In de SQL SELECT-opdracht geef je de conditie op na `WHERE`.\n",
    "Dit kunt condities samenstellen met behulp van logische en rekenkundige opereratoren, zoals vergelijkingen."
   ]
  },
  {
   "cell_type": "markdown",
   "metadata": {
    "tags": []
   },
   "source": [
    "**Opmerking:** door de constructie `FROM leden lid` is `lid` een alternatieve naam (*alias*) voor `leden`.\n",
    "We gebruiken dit om de voorwaarde (bij `WHERE`) logischer te formuleren."
   ]
  },
  {
   "cell_type": "code",
   "execution_count": 20,
   "metadata": {},
   "outputs": [
    {
     "data": {
      "text/html": [
       "<table>\n",
       "<tr>\n",
       "<th>lidnr</th>\n",
       "<th>voornaam</th>\n",
       "<th>achternaam</th>\n",
       "<th>email</th>\n",
       "</tr>\n",
       "<tr>\n",
       "<td>3</td>\n",
       "<td>Jantien</td>\n",
       "<td>Gerards</td>\n",
       "<td>jgerards@gmail.com</td>\n",
       "</tr>\n",
       "<tr>\n",
       "<td>4</td>\n",
       "<td>Marie</td>\n",
       "<td>Zandstra</td>\n",
       "<td>marie123@ziggo.nl</td>\n",
       "</tr>\n",
       "</table>"
      ],
      "text/plain": [
       "+-------+----------+------------+--------------------+\n",
       "| lidnr | voornaam | achternaam | email              |\n",
       "+-------+----------+------------+--------------------+\n",
       "| 3     | Jantien  | Gerards    | jgerards@gmail.com |\n",
       "+-------+----------+------------+--------------------+\n",
       "| 4     | Marie    | Zandstra   | marie123@ziggo.nl  |\n",
       "+-------+----------+------------+--------------------+"
      ]
     },
     "execution_count": 20,
     "metadata": {},
     "output_type": "execute_result"
    }
   ],
   "source": [
    "SELECT * FROM leden lid\n",
    "WHERE lid.lidnr > 2;"
   ]
  },
  {
   "cell_type": "markdown",
   "metadata": {},
   "source": [
    ":::{exercise} Selecteer de eerste events\n",
    "\n",
    "Selecteer de rijen in de tabel `events` waarvoor het `eventnr` kleiner dan 4 is.\n",
    "Vervang hieronder de voorwaarde `TRUE`door de juiste voorwaarde.\n",
    ":::"
   ]
  },
  {
   "cell_type": "code",
   "execution_count": 6,
   "metadata": {},
   "outputs": [
    {
     "data": {
      "text/html": [
       "<table>\n",
       "<tr>\n",
       "<th>eventnr</th>\n",
       "<th>lidnr</th>\n",
       "<th>maaltijd</th>\n",
       "</tr>\n",
       "<tr>\n",
       "<td>1</td>\n",
       "<td>1</td>\n",
       "<td>maaltijd A</td>\n",
       "</tr>\n",
       "<tr>\n",
       "<td>2</td>\n",
       "<td>1</td>\n",
       "<td>maaltijd B</td>\n",
       "</tr>\n",
       "<tr>\n",
       "<td>3</td>\n",
       "<td>2</td>\n",
       "<td>geen</td>\n",
       "</tr>\n",
       "<tr>\n",
       "<td>4</td>\n",
       "<td>3</td>\n",
       "<td>maaltijd A</td>\n",
       "</tr>\n",
       "</table>"
      ],
      "text/plain": [
       "+---------+-------+------------+\n",
       "| eventnr | lidnr | maaltijd   |\n",
       "+---------+-------+------------+\n",
       "| 1       | 1     | maaltijd A |\n",
       "+---------+-------+------------+\n",
       "| 2       | 1     | maaltijd B |\n",
       "+---------+-------+------------+\n",
       "| 3       | 2     | geen       |\n",
       "+---------+-------+------------+\n",
       "| 4       | 3     | maaltijd A |\n",
       "+---------+-------+------------+"
      ]
     },
     "execution_count": 6,
     "metadata": {},
     "output_type": "execute_result"
    }
   ],
   "source": [
    "SELECT * FROM inschrijvingen ins\n",
    "WHERE TRUE;"
   ]
  },
  {
   "cell_type": "markdown",
   "metadata": {},
   "source": [
    "## Projectie in SQL\n",
    "\n",
    "Je kunt selectie combineren met *projectie*: daarin geef je aan welke kolommen in het resultaat voorkomen.\n",
    "De andere kolommen worden weggelaten.\n",
    "\n",
    "In de SQL SELECT-opdracht geef je de namen van de kolommen van de projectie als eerste op.\n",
    "De volgorde mag daarbij anders zijn dan in de oorspronkelijke tabel:\n",
    "je kijgt als resultaat een tabel met de kolommen die je opgeeft.\n",
    "\n",
    "**Opmerking:** In de praktijk is het handig om *altijd* de namen van de geselecteerde kolommen op te geven, \n",
    "in plaats van `*`. Je weet dan zeker wat je als resultaat kunt verwachten, \n",
    "ook als er in de definitie van de tabel bijvoorbeeld een kolom bij gekomen is, of als de volgorde van de kolommen veranderd is."
   ]
  },
  {
   "cell_type": "code",
   "execution_count": 7,
   "metadata": {},
   "outputs": [
    {
     "data": {
      "text/html": [
       "<table>\n",
       "<tr>\n",
       "<th>email</th>\n",
       "<th>achternaam</th>\n",
       "</tr>\n",
       "<tr>\n",
       "<td>hdebo@ziggo.nl</td>\n",
       "<td>de Boer</td>\n",
       "</tr>\n",
       "<tr>\n",
       "<td>marie@verkerk.nl</td>\n",
       "<td>Verkerk</td>\n",
       "</tr>\n",
       "<tr>\n",
       "<td>jgerards@gmail.com</td>\n",
       "<td>Gerards</td>\n",
       "</tr>\n",
       "<tr>\n",
       "<td>marie123@ziggo.nl</td>\n",
       "<td>Zandstra</td>\n",
       "</tr>\n",
       "<tr>\n",
       "<td>erica@amazon.com</td>\n",
       "<td>Bezos</td>\n",
       "</tr>\n",
       "</table>"
      ],
      "text/plain": [
       "+--------------------+------------+\n",
       "| email              | achternaam |\n",
       "+--------------------+------------+\n",
       "| hdebo@ziggo.nl     | de Boer    |\n",
       "+--------------------+------------+\n",
       "| marie@verkerk.nl   | Verkerk    |\n",
       "+--------------------+------------+\n",
       "| jgerards@gmail.com | Gerards    |\n",
       "+--------------------+------------+\n",
       "| marie123@ziggo.nl  | Zandstra   |\n",
       "+--------------------+------------+\n",
       "| erica@amazon.com   | Bezos      |\n",
       "+--------------------+------------+"
      ]
     },
     "execution_count": 7,
     "metadata": {},
     "output_type": "execute_result"
    }
   ],
   "source": [
    "SELECT email, achternaam FROM leden;"
   ]
  },
  {
   "cell_type": "markdown",
   "metadata": {},
   "source": [
    "Een tabel kan ook uit een enkele kolom bestaan:"
   ]
  },
  {
   "cell_type": "code",
   "execution_count": 13,
   "metadata": {},
   "outputs": [
    {
     "data": {
      "text/html": [
       "<table>\n",
       "<tr>\n",
       "<th>voornaam</th>\n",
       "</tr>\n",
       "<tr>\n",
       "<td>Hans</td>\n",
       "</tr>\n",
       "<tr>\n",
       "<td>Marie</td>\n",
       "</tr>\n",
       "<tr>\n",
       "<td>Jantien</td>\n",
       "</tr>\n",
       "<tr>\n",
       "<td>Marie</td>\n",
       "</tr>\n",
       "<tr>\n",
       "<td>Erica</td>\n",
       "</tr>\n",
       "</table>"
      ],
      "text/plain": [
       "+----------+\n",
       "| voornaam |\n",
       "+----------+\n",
       "| Hans     |\n",
       "+----------+\n",
       "| Marie    |\n",
       "+----------+\n",
       "| Jantien  |\n",
       "+----------+\n",
       "| Marie    |\n",
       "+----------+\n",
       "| Erica    |\n",
       "+----------+"
      ]
     },
     "execution_count": 13,
     "metadata": {},
     "output_type": "execute_result"
    }
   ],
   "source": [
    "SELECT voornaam FROM leden;"
   ]
  },
  {
   "cell_type": "markdown",
   "metadata": {},
   "source": [
    "Zoals je ziet komen hierin bepaalde namen dubbel voor. Als je geen dubbele rijen wilt, gebruik je `SELECT DISTINCT`."
   ]
  },
  {
   "cell_type": "markdown",
   "metadata": {},
   "source": [
    "Als je een lange lijst met kolomnamen hebt, noteer je deze onder elkaar, *met de komma vooraan*.\n",
    "Op die manier kun je de lijst gemakkelijk aanpassen."
   ]
  },
  {
   "cell_type": "code",
   "execution_count": 14,
   "metadata": {},
   "outputs": [
    {
     "data": {
      "text/html": [
       "<table>\n",
       "<tr>\n",
       "<th>voornaam</th>\n",
       "<th>achternaam</th>\n",
       "<th>email</th>\n",
       "</tr>\n",
       "<tr>\n",
       "<td>Hans</td>\n",
       "<td>de Boer</td>\n",
       "<td>hdebo@ziggo.nl</td>\n",
       "</tr>\n",
       "<tr>\n",
       "<td>Marie</td>\n",
       "<td>Verkerk</td>\n",
       "<td>marie@verkerk.nl</td>\n",
       "</tr>\n",
       "<tr>\n",
       "<td>Jantien</td>\n",
       "<td>Gerards</td>\n",
       "<td>jgerards@gmail.com</td>\n",
       "</tr>\n",
       "<tr>\n",
       "<td>Marie</td>\n",
       "<td>Zandstra</td>\n",
       "<td>marie123@ziggo.nl</td>\n",
       "</tr>\n",
       "<tr>\n",
       "<td>Erica</td>\n",
       "<td>Bezos</td>\n",
       "<td>erica@amazon.com</td>\n",
       "</tr>\n",
       "</table>"
      ],
      "text/plain": [
       "+----------+------------+--------------------+\n",
       "| voornaam | achternaam | email              |\n",
       "+----------+------------+--------------------+\n",
       "| Hans     | de Boer    | hdebo@ziggo.nl     |\n",
       "+----------+------------+--------------------+\n",
       "| Marie    | Verkerk    | marie@verkerk.nl   |\n",
       "+----------+------------+--------------------+\n",
       "| Jantien  | Gerards    | jgerards@gmail.com |\n",
       "+----------+------------+--------------------+\n",
       "| Marie    | Zandstra   | marie123@ziggo.nl  |\n",
       "+----------+------------+--------------------+\n",
       "| Erica    | Bezos      | erica@amazon.com   |\n",
       "+----------+------------+--------------------+"
      ]
     },
     "execution_count": 14,
     "metadata": {},
     "output_type": "execute_result"
    }
   ],
   "source": [
    "SELECT voornaam\n",
    ",      achternaam\n",
    ",      email\n",
    "FROM leden;"
   ]
  },
  {
   "cell_type": "markdown",
   "metadata": {},
   "source": [
    ":::{exercise} Combineren van selectie en projectie\n",
    "\n",
    "Je kunt selectie (van rijen) en projectie (van kolommen) ook combineren:\n",
    "\n",
    "Selecteer de rijen van de leden waarvoor de voornaam voor de \"M\" valt,\n",
    "en druk daarvan de voornaam en de achternaam af (projectie).\n",
    "Vervang in de onderstaande opdracht daarvoor de `*` en de `TRUE`.\n",
    ":::"
   ]
  },
  {
   "cell_type": "code",
   "execution_count": 15,
   "metadata": {},
   "outputs": [
    {
     "data": {
      "text/html": [
       "<table>\n",
       "<tr>\n",
       "<th>lidnr</th>\n",
       "<th>voornaam</th>\n",
       "<th>achternaam</th>\n",
       "<th>email</th>\n",
       "</tr>\n",
       "<tr>\n",
       "<td>1</td>\n",
       "<td>Hans</td>\n",
       "<td>de Boer</td>\n",
       "<td>hdebo@ziggo.nl</td>\n",
       "</tr>\n",
       "<tr>\n",
       "<td>2</td>\n",
       "<td>Marie</td>\n",
       "<td>Verkerk</td>\n",
       "<td>marie@verkerk.nl</td>\n",
       "</tr>\n",
       "<tr>\n",
       "<td>3</td>\n",
       "<td>Jantien</td>\n",
       "<td>Gerards</td>\n",
       "<td>jgerards@gmail.com</td>\n",
       "</tr>\n",
       "<tr>\n",
       "<td>4</td>\n",
       "<td>Marie</td>\n",
       "<td>Zandstra</td>\n",
       "<td>marie123@ziggo.nl</td>\n",
       "</tr>\n",
       "<tr>\n",
       "<td>5</td>\n",
       "<td>Erica</td>\n",
       "<td>Bezos</td>\n",
       "<td>erica@amazon.com</td>\n",
       "</tr>\n",
       "</table>"
      ],
      "text/plain": [
       "+-------+----------+------------+--------------------+\n",
       "| lidnr | voornaam | achternaam | email              |\n",
       "+-------+----------+------------+--------------------+\n",
       "| 1     | Hans     | de Boer    | hdebo@ziggo.nl     |\n",
       "+-------+----------+------------+--------------------+\n",
       "| 2     | Marie    | Verkerk    | marie@verkerk.nl   |\n",
       "+-------+----------+------------+--------------------+\n",
       "| 3     | Jantien  | Gerards    | jgerards@gmail.com |\n",
       "+-------+----------+------------+--------------------+\n",
       "| 4     | Marie    | Zandstra   | marie123@ziggo.nl  |\n",
       "+-------+----------+------------+--------------------+\n",
       "| 5     | Erica    | Bezos      | erica@amazon.com   |\n",
       "+-------+----------+------------+--------------------+"
      ]
     },
     "execution_count": 15,
     "metadata": {},
     "output_type": "execute_result"
    }
   ],
   "source": [
    "SELECT * FROM leden lid\n",
    "WHERE TRUE;"
   ]
  }
 ],
 "metadata": {
  "kernelspec": {
   "display_name": "xsqlite",
   "language": "sqlite",
   "name": "xsqlite"
  },
  "language_info": {
   "codemirror_mode": "sql",
   "file_extension": "",
   "mimetype": "",
   "name": "sqlite3",
   "version": "3.33.0"
  }
 },
 "nbformat": 4,
 "nbformat_minor": 4
}
