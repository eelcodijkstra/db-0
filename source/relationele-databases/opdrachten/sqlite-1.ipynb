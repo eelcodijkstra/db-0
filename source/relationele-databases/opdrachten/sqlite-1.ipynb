{
 "cells": [
  {
   "cell_type": "markdown",
   "metadata": {
    "tags": []
   },
   "source": [
    "# SQL: selectie en projectie"
   ]
  },
  {
   "cell_type": "markdown",
   "metadata": {},
   "source": [
    "Voordat we een database kunnen gebruiken, moeten we eerst de verbinding daarmee maken.\n",
    "Dit gebeurt met de onderstaande (meta) opdracht:"
   ]
  },
  {
   "cell_type": "code",
   "execution_count": 18,
   "metadata": {},
   "outputs": [],
   "source": [
    "%LOAD example.db"
   ]
  },
  {
   "cell_type": "markdown",
   "metadata": {
    "tags": []
   },
   "source": [
    "## Database tabellen\n",
    "\n",
    "Voor de volledigheid geven we hier een overzicht van de tabellen in de database."
   ]
  },
  {
   "cell_type": "code",
   "execution_count": 19,
   "metadata": {},
   "outputs": [
    {
     "data": {
      "text/html": [
       "<table>\n",
       "<tr>\n",
       "<th>lidnr</th>\n",
       "<th>voornaam</th>\n",
       "<th>achternaam</th>\n",
       "<th>email</th>\n",
       "</tr>\n",
       "<tr>\n",
       "<td>1</td>\n",
       "<td>Hans</td>\n",
       "<td>de Boer</td>\n",
       "<td>hdebo@ziggo.nl</td>\n",
       "</tr>\n",
       "<tr>\n",
       "<td>2</td>\n",
       "<td>Marie</td>\n",
       "<td>Verkerk</td>\n",
       "<td>marie@verkerk.nl</td>\n",
       "</tr>\n",
       "<tr>\n",
       "<td>3</td>\n",
       "<td>Jantien</td>\n",
       "<td>Gerards</td>\n",
       "<td>jgerards@gmail.com</td>\n",
       "</tr>\n",
       "<tr>\n",
       "<td>4</td>\n",
       "<td>Marie</td>\n",
       "<td>Zandstra</td>\n",
       "<td>marie123@ziggo.nl</td>\n",
       "</tr>\n",
       "</table>"
      ],
      "text/plain": [
       "+-------+----------+------------+--------------------+\n",
       "| lidnr | voornaam | achternaam | email              |\n",
       "+-------+----------+------------+--------------------+\n",
       "| 1     | Hans     | de Boer    | hdebo@ziggo.nl     |\n",
       "+-------+----------+------------+--------------------+\n",
       "| 2     | Marie    | Verkerk    | marie@verkerk.nl   |\n",
       "+-------+----------+------------+--------------------+\n",
       "| 3     | Jantien  | Gerards    | jgerards@gmail.com |\n",
       "+-------+----------+------------+--------------------+\n",
       "| 4     | Marie    | Zandstra   | marie123@ziggo.nl  |\n",
       "+-------+----------+------------+--------------------+"
      ]
     },
     "execution_count": 19,
     "metadata": {},
     "output_type": "execute_result"
    }
   ],
   "source": [
    "SELECT * FROM leden;"
   ]
  },
  {
   "cell_type": "code",
   "execution_count": 3,
   "metadata": {},
   "outputs": [
    {
     "data": {
      "text/html": [
       "<table>\n",
       "<tr>\n",
       "<th>eventnr</th>\n",
       "<th>datum</th>\n",
       "<th>beschrijving</th>\n",
       "</tr>\n",
       "<tr>\n",
       "<td>1</td>\n",
       "<td>2019-08-21</td>\n",
       "<td>Schaaktoernooi Breda</td>\n",
       "</tr>\n",
       "<tr>\n",
       "<td>2</td>\n",
       "<td>2019-08-28</td>\n",
       "<td>Schaaktoernooi Breda</td>\n",
       "</tr>\n",
       "<tr>\n",
       "<td>3</td>\n",
       "<td>2019-08-28</td>\n",
       "<td>Schaaktoernooi Assen</td>\n",
       "</tr>\n",
       "<tr>\n",
       "<td>4</td>\n",
       "<td>2019-09-15</td>\n",
       "<td>Schaaktoernooi Amersfoort</td>\n",
       "</tr>\n",
       "</table>"
      ],
      "text/plain": [
       "+---------+------------+---------------------------+\n",
       "| eventnr | datum      | beschrijving              |\n",
       "+---------+------------+---------------------------+\n",
       "| 1       | 2019-08-21 | Schaaktoernooi Breda      |\n",
       "+---------+------------+---------------------------+\n",
       "| 2       | 2019-08-28 | Schaaktoernooi Breda      |\n",
       "+---------+------------+---------------------------+\n",
       "| 3       | 2019-08-28 | Schaaktoernooi Assen      |\n",
       "+---------+------------+---------------------------+\n",
       "| 4       | 2019-09-15 | Schaaktoernooi Amersfoort |\n",
       "+---------+------------+---------------------------+"
      ]
     },
     "execution_count": 3,
     "metadata": {},
     "output_type": "execute_result"
    }
   ],
   "source": [
    "SELECT * FROM events;"
   ]
  },
  {
   "cell_type": "code",
   "execution_count": 4,
   "metadata": {},
   "outputs": [
    {
     "data": {
      "text/html": [
       "<table>\n",
       "<tr>\n",
       "<th>eventnr</th>\n",
       "<th>lidnr</th>\n",
       "<th>maaltijd</th>\n",
       "</tr>\n",
       "<tr>\n",
       "<td>1</td>\n",
       "<td>1</td>\n",
       "<td>maaltijd A</td>\n",
       "</tr>\n",
       "<tr>\n",
       "<td>2</td>\n",
       "<td>1</td>\n",
       "<td>maaltijd B</td>\n",
       "</tr>\n",
       "<tr>\n",
       "<td>3</td>\n",
       "<td>2</td>\n",
       "<td>geen</td>\n",
       "</tr>\n",
       "<tr>\n",
       "<td>4</td>\n",
       "<td>3</td>\n",
       "<td>maaltijd A</td>\n",
       "</tr>\n",
       "</table>"
      ],
      "text/plain": [
       "+---------+-------+------------+\n",
       "| eventnr | lidnr | maaltijd   |\n",
       "+---------+-------+------------+\n",
       "| 1       | 1     | maaltijd A |\n",
       "+---------+-------+------------+\n",
       "| 2       | 1     | maaltijd B |\n",
       "+---------+-------+------------+\n",
       "| 3       | 2     | geen       |\n",
       "+---------+-------+------------+\n",
       "| 4       | 3     | maaltijd A |\n",
       "+---------+-------+------------+"
      ]
     },
     "execution_count": 4,
     "metadata": {},
     "output_type": "execute_result"
    }
   ],
   "source": [
    "SELECT * from inschrijvingen;"
   ]
  },
  {
   "cell_type": "markdown",
   "metadata": {},
   "source": [
    "----"
   ]
  },
  {
   "cell_type": "markdown",
   "metadata": {
    "tags": []
   },
   "source": [
    "## Selectie\n",
    "\n",
    "Je kunt de rijen van een tabel selecteren op basis van een *voorwaarde*.\n",
    "In de SQL SELECT-opdracht geef je de conditie op na `WHERE`.\n",
    "Dit kunt condities samenstellen met behulp van logische en rekenkundige opereratoren, zoals vergelijkingen.\n",
    "\n",
    "**Opmerking:** door de constructie `FROM leden lid` is `lid` een alternatieve naam (*alias*) voor `leden`.\n",
    "We gebruiken dit om de voorwaarde (bij `WHERE`) logischer te formuleren."
   ]
  },
  {
   "cell_type": "code",
   "execution_count": 5,
   "metadata": {},
   "outputs": [
    {
     "data": {
      "text/html": [
       "<table>\n",
       "<tr>\n",
       "<th>lidnr</th>\n",
       "<th>voornaam</th>\n",
       "<th>achternaam</th>\n",
       "<th>email</th>\n",
       "</tr>\n",
       "<tr>\n",
       "<td>2</td>\n",
       "<td>Marie</td>\n",
       "<td>Verkerk</td>\n",
       "<td>marie@verkerk.nl</td>\n",
       "</tr>\n",
       "<tr>\n",
       "<td>3</td>\n",
       "<td>Jantien</td>\n",
       "<td>Gerards</td>\n",
       "<td>jgerards@gmail.com</td>\n",
       "</tr>\n",
       "<tr>\n",
       "<td>4</td>\n",
       "<td>Marie</td>\n",
       "<td>Zandstra</td>\n",
       "<td>marie123@ziggo.nl</td>\n",
       "</tr>\n",
       "<tr>\n",
       "<td>5</td>\n",
       "<td>Erica</td>\n",
       "<td>Bezos</td>\n",
       "<td>erica@amazon.com</td>\n",
       "</tr>\n",
       "</table>"
      ],
      "text/plain": [
       "+-------+----------+------------+--------------------+\n",
       "| lidnr | voornaam | achternaam | email              |\n",
       "+-------+----------+------------+--------------------+\n",
       "| 2     | Marie    | Verkerk    | marie@verkerk.nl   |\n",
       "+-------+----------+------------+--------------------+\n",
       "| 3     | Jantien  | Gerards    | jgerards@gmail.com |\n",
       "+-------+----------+------------+--------------------+\n",
       "| 4     | Marie    | Zandstra   | marie123@ziggo.nl  |\n",
       "+-------+----------+------------+--------------------+\n",
       "| 5     | Erica    | Bezos      | erica@amazon.com   |\n",
       "+-------+----------+------------+--------------------+"
      ]
     },
     "execution_count": 5,
     "metadata": {},
     "output_type": "execute_result"
    }
   ],
   "source": [
    "SELECT * FROM leden lid\n",
    "WHERE lid.lidnr > 1;"
   ]
  },
  {
   "cell_type": "markdown",
   "metadata": {},
   "source": [
    ":::{exercise} Selecteer de eerste events\n",
    "\n",
    "Selecteer de rijen in de tabel `events` waarvoor het `eventnr` kleiner dan 4 is.\n",
    "Vervang hieronder de voorwaarde `TRUE`door de juiste voorwaarde.\n",
    ":::"
   ]
  },
  {
   "cell_type": "code",
   "execution_count": 6,
   "metadata": {},
   "outputs": [
    {
     "data": {
      "text/html": [
       "<table>\n",
       "<tr>\n",
       "<th>eventnr</th>\n",
       "<th>lidnr</th>\n",
       "<th>maaltijd</th>\n",
       "</tr>\n",
       "<tr>\n",
       "<td>1</td>\n",
       "<td>1</td>\n",
       "<td>maaltijd A</td>\n",
       "</tr>\n",
       "<tr>\n",
       "<td>2</td>\n",
       "<td>1</td>\n",
       "<td>maaltijd B</td>\n",
       "</tr>\n",
       "<tr>\n",
       "<td>3</td>\n",
       "<td>2</td>\n",
       "<td>geen</td>\n",
       "</tr>\n",
       "<tr>\n",
       "<td>4</td>\n",
       "<td>3</td>\n",
       "<td>maaltijd A</td>\n",
       "</tr>\n",
       "</table>"
      ],
      "text/plain": [
       "+---------+-------+------------+\n",
       "| eventnr | lidnr | maaltijd   |\n",
       "+---------+-------+------------+\n",
       "| 1       | 1     | maaltijd A |\n",
       "+---------+-------+------------+\n",
       "| 2       | 1     | maaltijd B |\n",
       "+---------+-------+------------+\n",
       "| 3       | 2     | geen       |\n",
       "+---------+-------+------------+\n",
       "| 4       | 3     | maaltijd A |\n",
       "+---------+-------+------------+"
      ]
     },
     "execution_count": 6,
     "metadata": {},
     "output_type": "execute_result"
    }
   ],
   "source": [
    "SELECT * FROM inschrijvingen ins\n",
    "WHERE TRUE;"
   ]
  },
  {
   "cell_type": "markdown",
   "metadata": {},
   "source": [
    "## Projectie\n",
    "\n",
    "Je kunt selectie combineren met *projectie*: daarin geef je aan welke kolommen in het resultaat voorkomen.\n",
    "De andere kolommen worden weggelaten.\n",
    "\n",
    "In de SQL SELECT-opdracht geef je de namen van de kolommen van de projectie als eerste op.\n",
    "De volgorde mag daarbij anders zijn dan in de oorspronkelijke tabel:\n",
    "je kijgt als resultaat een tabel met de kolommen die je opgeeft.\n",
    "\n",
    "**Opmerking:** In de praktijk is het handig om *altijd* de namen van de geselecteerde kolommen op te geven, \n",
    "in plaats van `*`. Je weet dan zeker wat je als resultaat kunt verwachten, \n",
    "ook als er in de definitie van de tabel bijvoorbeeld een kolom bij gekomen is, of als de volgorde van de kolommen veranderd is."
   ]
  },
  {
   "cell_type": "code",
   "execution_count": 7,
   "metadata": {},
   "outputs": [
    {
     "data": {
      "text/html": [
       "<table>\n",
       "<tr>\n",
       "<th>email</th>\n",
       "<th>achternaam</th>\n",
       "</tr>\n",
       "<tr>\n",
       "<td>hdebo@ziggo.nl</td>\n",
       "<td>de Boer</td>\n",
       "</tr>\n",
       "<tr>\n",
       "<td>marie@verkerk.nl</td>\n",
       "<td>Verkerk</td>\n",
       "</tr>\n",
       "<tr>\n",
       "<td>jgerards@gmail.com</td>\n",
       "<td>Gerards</td>\n",
       "</tr>\n",
       "<tr>\n",
       "<td>marie123@ziggo.nl</td>\n",
       "<td>Zandstra</td>\n",
       "</tr>\n",
       "<tr>\n",
       "<td>erica@amazon.com</td>\n",
       "<td>Bezos</td>\n",
       "</tr>\n",
       "</table>"
      ],
      "text/plain": [
       "+--------------------+------------+\n",
       "| email              | achternaam |\n",
       "+--------------------+------------+\n",
       "| hdebo@ziggo.nl     | de Boer    |\n",
       "+--------------------+------------+\n",
       "| marie@verkerk.nl   | Verkerk    |\n",
       "+--------------------+------------+\n",
       "| jgerards@gmail.com | Gerards    |\n",
       "+--------------------+------------+\n",
       "| marie123@ziggo.nl  | Zandstra   |\n",
       "+--------------------+------------+\n",
       "| erica@amazon.com   | Bezos      |\n",
       "+--------------------+------------+"
      ]
     },
     "execution_count": 7,
     "metadata": {},
     "output_type": "execute_result"
    }
   ],
   "source": [
    "SELECT email, achternaam FROM leden;"
   ]
  },
  {
   "cell_type": "markdown",
   "metadata": {},
   "source": [
    "Een tabel kan ook uit een enkele kolom bestaan:"
   ]
  },
  {
   "cell_type": "code",
   "execution_count": 13,
   "metadata": {},
   "outputs": [
    {
     "data": {
      "text/html": [
       "<table>\n",
       "<tr>\n",
       "<th>voornaam</th>\n",
       "</tr>\n",
       "<tr>\n",
       "<td>Hans</td>\n",
       "</tr>\n",
       "<tr>\n",
       "<td>Marie</td>\n",
       "</tr>\n",
       "<tr>\n",
       "<td>Jantien</td>\n",
       "</tr>\n",
       "<tr>\n",
       "<td>Marie</td>\n",
       "</tr>\n",
       "<tr>\n",
       "<td>Erica</td>\n",
       "</tr>\n",
       "</table>"
      ],
      "text/plain": [
       "+----------+\n",
       "| voornaam |\n",
       "+----------+\n",
       "| Hans     |\n",
       "+----------+\n",
       "| Marie    |\n",
       "+----------+\n",
       "| Jantien  |\n",
       "+----------+\n",
       "| Marie    |\n",
       "+----------+\n",
       "| Erica    |\n",
       "+----------+"
      ]
     },
     "execution_count": 13,
     "metadata": {},
     "output_type": "execute_result"
    }
   ],
   "source": [
    "SELECT voornaam FROM leden;"
   ]
  },
  {
   "cell_type": "markdown",
   "metadata": {},
   "source": [
    "Zoals je ziet komen hierin bepaalde namen dubbel voor. Als je geen dubbele rijen wilt, gebruik je `SELECT DISTINCT`."
   ]
  },
  {
   "cell_type": "markdown",
   "metadata": {},
   "source": [
    "Als je een lange lijst met kolomnamen hebt, noteer je deze onder elkaar, *met de komma vooraan*.\n",
    "Op die manier kun je de lijst gemakkelijk aanpassen."
   ]
  },
  {
   "cell_type": "code",
   "execution_count": 14,
   "metadata": {},
   "outputs": [
    {
     "data": {
      "text/html": [
       "<table>\n",
       "<tr>\n",
       "<th>voornaam</th>\n",
       "<th>achternaam</th>\n",
       "<th>email</th>\n",
       "</tr>\n",
       "<tr>\n",
       "<td>Hans</td>\n",
       "<td>de Boer</td>\n",
       "<td>hdebo@ziggo.nl</td>\n",
       "</tr>\n",
       "<tr>\n",
       "<td>Marie</td>\n",
       "<td>Verkerk</td>\n",
       "<td>marie@verkerk.nl</td>\n",
       "</tr>\n",
       "<tr>\n",
       "<td>Jantien</td>\n",
       "<td>Gerards</td>\n",
       "<td>jgerards@gmail.com</td>\n",
       "</tr>\n",
       "<tr>\n",
       "<td>Marie</td>\n",
       "<td>Zandstra</td>\n",
       "<td>marie123@ziggo.nl</td>\n",
       "</tr>\n",
       "<tr>\n",
       "<td>Erica</td>\n",
       "<td>Bezos</td>\n",
       "<td>erica@amazon.com</td>\n",
       "</tr>\n",
       "</table>"
      ],
      "text/plain": [
       "+----------+------------+--------------------+\n",
       "| voornaam | achternaam | email              |\n",
       "+----------+------------+--------------------+\n",
       "| Hans     | de Boer    | hdebo@ziggo.nl     |\n",
       "+----------+------------+--------------------+\n",
       "| Marie    | Verkerk    | marie@verkerk.nl   |\n",
       "+----------+------------+--------------------+\n",
       "| Jantien  | Gerards    | jgerards@gmail.com |\n",
       "+----------+------------+--------------------+\n",
       "| Marie    | Zandstra   | marie123@ziggo.nl  |\n",
       "+----------+------------+--------------------+\n",
       "| Erica    | Bezos      | erica@amazon.com   |\n",
       "+----------+------------+--------------------+"
      ]
     },
     "execution_count": 14,
     "metadata": {},
     "output_type": "execute_result"
    }
   ],
   "source": [
    "SELECT voornaam\n",
    ",      achternaam\n",
    ",      email\n",
    "FROM leden;"
   ]
  },
  {
   "cell_type": "markdown",
   "metadata": {},
   "source": [
    "### Opdracht\n",
    "\n",
    "Je kunt selectie (van rijen) en projectie (van kolommen) ook combineren:\n",
    "\n",
    "Selecteer de rijen van de leden waarvoor de voornaam voor de \"M\" valt,\n",
    "en druk daarvan de voornaam en de achternaam af (projectie).\n",
    "Vervang in de onderstaande opdracht daarvoor de `*` en de `TRUE`."
   ]
  },
  {
   "cell_type": "code",
   "execution_count": 15,
   "metadata": {},
   "outputs": [
    {
     "data": {
      "text/html": [
       "<table>\n",
       "<tr>\n",
       "<th>lidnr</th>\n",
       "<th>voornaam</th>\n",
       "<th>achternaam</th>\n",
       "<th>email</th>\n",
       "</tr>\n",
       "<tr>\n",
       "<td>1</td>\n",
       "<td>Hans</td>\n",
       "<td>de Boer</td>\n",
       "<td>hdebo@ziggo.nl</td>\n",
       "</tr>\n",
       "<tr>\n",
       "<td>2</td>\n",
       "<td>Marie</td>\n",
       "<td>Verkerk</td>\n",
       "<td>marie@verkerk.nl</td>\n",
       "</tr>\n",
       "<tr>\n",
       "<td>3</td>\n",
       "<td>Jantien</td>\n",
       "<td>Gerards</td>\n",
       "<td>jgerards@gmail.com</td>\n",
       "</tr>\n",
       "<tr>\n",
       "<td>4</td>\n",
       "<td>Marie</td>\n",
       "<td>Zandstra</td>\n",
       "<td>marie123@ziggo.nl</td>\n",
       "</tr>\n",
       "<tr>\n",
       "<td>5</td>\n",
       "<td>Erica</td>\n",
       "<td>Bezos</td>\n",
       "<td>erica@amazon.com</td>\n",
       "</tr>\n",
       "</table>"
      ],
      "text/plain": [
       "+-------+----------+------------+--------------------+\n",
       "| lidnr | voornaam | achternaam | email              |\n",
       "+-------+----------+------------+--------------------+\n",
       "| 1     | Hans     | de Boer    | hdebo@ziggo.nl     |\n",
       "+-------+----------+------------+--------------------+\n",
       "| 2     | Marie    | Verkerk    | marie@verkerk.nl   |\n",
       "+-------+----------+------------+--------------------+\n",
       "| 3     | Jantien  | Gerards    | jgerards@gmail.com |\n",
       "+-------+----------+------------+--------------------+\n",
       "| 4     | Marie    | Zandstra   | marie123@ziggo.nl  |\n",
       "+-------+----------+------------+--------------------+\n",
       "| 5     | Erica    | Bezos      | erica@amazon.com   |\n",
       "+-------+----------+------------+--------------------+"
      ]
     },
     "execution_count": 15,
     "metadata": {},
     "output_type": "execute_result"
    }
   ],
   "source": [
    "SELECT * FROM leden lid\n",
    "WHERE TRUE;"
   ]
  },
  {
   "cell_type": "code",
   "execution_count": null,
   "metadata": {},
   "outputs": [],
   "source": []
  },
  {
   "cell_type": "code",
   "execution_count": null,
   "metadata": {},
   "outputs": [],
   "source": []
  }
 ],
 "metadata": {
  "kernelspec": {
   "display_name": "xsqlite",
   "language": "sqlite",
   "name": "xsqlite"
  },
  "language_info": {
   "codemirror_mode": "sql",
   "file_extension": "",
   "mimetype": "",
   "name": "sqlite3",
   "version": "3.33.0"
  }
 },
 "nbformat": 4,
 "nbformat_minor": 4
}
