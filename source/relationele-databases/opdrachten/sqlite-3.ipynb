{
 "cells": [
  {
   "cell_type": "markdown",
   "metadata": {},
   "source": [
    "# SQL CRUD"
   ]
  },
  {
   "cell_type": "code",
   "execution_count": 1,
   "metadata": {},
   "outputs": [],
   "source": [
    "%LOAD example3.db"
   ]
  },
  {
   "cell_type": "markdown",
   "metadata": {},
   "source": [
    "----"
   ]
  },
  {
   "cell_type": "markdown",
   "metadata": {},
   "source": [
    "## CRUD"
   ]
  },
  {
   "cell_type": "markdown",
   "metadata": {},
   "source": [
    "Met de afkorting CRUD geven we de basisoperaties op een database aan: Create, Read, Update, en Delete.\n",
    "Hieronder geven we de SQL-opdrachten die daarmee overeenkomen. We geven daarbij ook aan hoe deze samenhangen met eventuele constraints van de database."
   ]
  },
  {
   "cell_type": "markdown",
   "metadata": {},
   "source": [
    "### Create (INSERT)\n",
    "\n",
    "Met de INSERT opdracht voegen we een nieuwe rij aan een tabel toe (create).\n",
    "Ter controle vragen we de tabel voor en na de INSERT op."
   ]
  },
  {
   "cell_type": "code",
   "execution_count": 2,
   "metadata": {},
   "outputs": [
    {
     "data": {
      "text/html": [
       "<table>\n",
       "<tr>\n",
       "<th>lidnr</th>\n",
       "<th>voornaam</th>\n",
       "<th>achternaam</th>\n",
       "<th>email</th>\n",
       "</tr>\n",
       "<tr>\n",
       "<td>1</td>\n",
       "<td>Hans</td>\n",
       "<td>de Boer</td>\n",
       "<td>hdebo@ziggo.nl</td>\n",
       "</tr>\n",
       "<tr>\n",
       "<td>2</td>\n",
       "<td>Marie</td>\n",
       "<td>Verkerk</td>\n",
       "<td>marie@verkerk.nl</td>\n",
       "</tr>\n",
       "<tr>\n",
       "<td>3</td>\n",
       "<td>Jantien</td>\n",
       "<td>Gerards</td>\n",
       "<td>jgerards@gmail.com</td>\n",
       "</tr>\n",
       "<tr>\n",
       "<td>4</td>\n",
       "<td>Marie</td>\n",
       "<td>Zandstra</td>\n",
       "<td>marie123@ziggo.nl</td>\n",
       "</tr>\n",
       "</table>"
      ],
      "text/plain": [
       "+-------+----------+------------+--------------------+\n",
       "| lidnr | voornaam | achternaam | email              |\n",
       "+-------+----------+------------+--------------------+\n",
       "| 1     | Hans     | de Boer    | hdebo@ziggo.nl     |\n",
       "+-------+----------+------------+--------------------+\n",
       "| 2     | Marie    | Verkerk    | marie@verkerk.nl   |\n",
       "+-------+----------+------------+--------------------+\n",
       "| 3     | Jantien  | Gerards    | jgerards@gmail.com |\n",
       "+-------+----------+------------+--------------------+\n",
       "| 4     | Marie    | Zandstra   | marie123@ziggo.nl  |\n",
       "+-------+----------+------------+--------------------+"
      ]
     },
     "execution_count": 2,
     "metadata": {},
     "output_type": "execute_result"
    }
   ],
   "source": [
    "SELECT *\n",
    "FROM leden;"
   ]
  },
  {
   "cell_type": "code",
   "execution_count": null,
   "metadata": {},
   "outputs": [],
   "source": [
    "INSERT INTO leden (voornaam, achternaam, email) \n",
    "VALUES ('Erica', 'Bezos', 'erica@amazon.com');"
   ]
  },
  {
   "cell_type": "markdown",
   "metadata": {},
   "source": [
    "**Opmerking.** We geven het lidnr (de primary key) hier niet op: dit nummer wordt automatisch door SQLite ingevuld,\n",
    "als uniek volgnr. \n",
    "\n",
    "Controleer of inderdaad het nieuwe lid toegevoegd is (met een uniek `lidnr`):"
   ]
  },
  {
   "cell_type": "code",
   "execution_count": null,
   "metadata": {},
   "outputs": [],
   "source": [
    "SELECT *\n",
    "FROM leden;"
   ]
  },
  {
   "cell_type": "markdown",
   "metadata": {},
   "source": [
    "**Constraint error(s) bij INSERT**. Nogmaals uitvoeren van de INSERT-opdracht geeft een foutmelding (bovenaan): *UNIQUE constraint failed: leden.email*.\n",
    "We hebben immers aangegeven dat het `mail`-adres uniek moet zijn (constraint)."
   ]
  },
  {
   "cell_type": "code",
   "execution_count": null,
   "metadata": {},
   "outputs": [],
   "source": [
    "INSERT INTO leden (voornaam, achternaam, email) \n",
    "VALUES ('Erica', 'Bezos', 'erica@amazon.com');"
   ]
  },
  {
   "cell_type": "markdown",
   "metadata": {},
   "source": [
    "::{exercise} Insert met zelfde naam\n",
    "\n",
    "Voer de INSERT-opdracht nogmaals uit, met dezelfde namen, en een *ander emailadres*. \n",
    "Controleer vervolgens het resultaat. Wat is er gebeurd?\n",
    ":::"
   ]
  },
  {
   "cell_type": "markdown",
   "metadata": {},
   "source": []
  },
  {
   "cell_type": "code",
   "execution_count": null,
   "metadata": {},
   "outputs": [],
   "source": [
    "SELECT *\n",
    "FROM leden;"
   ]
  },
  {
   "cell_type": "markdown",
   "metadata": {},
   "source": [
    "### Read (SELECT)\n",
    "\n",
    "Met de SELECT-opdracht zoals we hierboven gebruikt hebben kun je de data uit de database lezen.\n",
    "Het resultaat van SELECT is altijd een tabel; in sommige gevallen bestaat deze uit 1 rij, als we een bestaande rij willen lezen. Soms is de tabel leeg: er zijn dan geen rijen gevonden die aan de voorwaarde voldoen."
   ]
  },
  {
   "cell_type": "code",
   "execution_count": null,
   "metadata": {},
   "outputs": [],
   "source": [
    "SELECT lid.lidnr, lid.voornaam, lid.achternaam, lid.email\n",
    "FROM leden lid\n",
    "WHERE lid.voornaam='Jantien';"
   ]
  },
  {
   "cell_type": "markdown",
   "metadata": {},
   "source": [
    "**Opdracht** Pas bovenstaande zoekopdracht aan zodat deze 0 rijen oplevert; en zodat deze meerdere rijen oplevert."
   ]
  },
  {
   "cell_type": "markdown",
   "metadata": {},
   "source": [
    "## Update (UPDATE)\n",
    "\n",
    "Met de UPDATE opdracht kun je een bestaande rij selectief veranderen.\n",
    "In het onderstaande voorbeeld passen we de voornaam aan:"
   ]
  },
  {
   "cell_type": "code",
   "execution_count": null,
   "metadata": {},
   "outputs": [],
   "source": [
    "UPDATE leden\n",
    "SET voornaam = \"Janny\"\n",
    "WHERE voornaam = \"Jantien\";"
   ]
  },
  {
   "cell_type": "code",
   "execution_count": null,
   "metadata": {},
   "outputs": [],
   "source": [
    "SELECT * from LEDEN;"
   ]
  },
  {
   "cell_type": "markdown",
   "metadata": {},
   "source": [
    "* Ga na dat herhalen van deze opdracht hetzelfde resultaat oplevert.\n",
    "* Ga na dat een update voor een lege selectie geen foutmelding oplevert.\n",
    "* Ga na of je in een UPDATE opdracht meerdere rijen kunt veranderen. Kun je bijvoorbeeld alle \"Marie\"-s veranderen in \"Maria\"-s?"
   ]
  },
  {
   "cell_type": "markdown",
   "metadata": {},
   "source": [
    "### Delete (DELETE)\n",
    "\n",
    "Met de DELETE opdracht verwijder je een rij uit de database."
   ]
  },
  {
   "cell_type": "code",
   "execution_count": null,
   "metadata": {},
   "outputs": [],
   "source": [
    "DELETE FROM leden\n",
    "WHERE voornaam=\"Erica\";"
   ]
  },
  {
   "cell_type": "code",
   "execution_count": null,
   "metadata": {},
   "outputs": [],
   "source": [
    "SELECT * FROM leden;"
   ]
  },
  {
   "cell_type": "markdown",
   "metadata": {},
   "source": [
    "**Opdracht**. Ga na dat herhalen van de bovenstaande opdracht geen problemen oplevert: het verwijderen van een niet-bestaand element slaagt \"per definitie\". DELETE is een *idempotente* opdracht: deze heeft dezelfde betekenis als je deze eenmaal of vaker uitvoert."
   ]
  },
  {
   "cell_type": "markdown",
   "metadata": {},
   "source": [
    "## Herstel de database\n",
    "\n",
    "Met de bovenstaande opdrachten heb je de leden-tabel mogelijk behoorlijk verziekt.\n",
    "Met de onderstaande opdracht herstel je de oorspronkelijke tabel weer:"
   ]
  },
  {
   "cell_type": "code",
   "execution_count": null,
   "metadata": {},
   "outputs": [],
   "source": [
    "SELECT name FROM sqlite_master WHERE type='table';"
   ]
  },
  {
   "cell_type": "code",
   "execution_count": null,
   "metadata": {},
   "outputs": [],
   "source": [
    "SELECT * FROM sqlite_master;"
   ]
  },
  {
   "cell_type": "code",
   "execution_count": null,
   "metadata": {},
   "outputs": [],
   "source": [
    "SELECT name, sql\n",
    "FROM sqlite_master\n",
    "WHERE type='table';"
   ]
  },
  {
   "cell_type": "markdown",
   "metadata": {},
   "source": []
  }
 ],
 "metadata": {
  "kernelspec": {
   "display_name": "xsqlite",
   "language": "sqlite",
   "name": "xsqlite"
  },
  "language_info": {
   "codemirror_mode": "sql",
   "file_extension": "",
   "mimetype": "",
   "name": "sqlite3",
   "version": "3.33.0"
  }
 },
 "nbformat": 4,
 "nbformat_minor": 4
}
